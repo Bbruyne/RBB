{
 "cells": [
  {
   "cell_type": "code",
   "execution_count": 1,
   "id": "7358f1f2",
   "metadata": {},
   "outputs": [],
   "source": [
    "using SpecialFunctions\n",
    "using Random\n",
    "using Distributions\n",
    "using Statistics\n",
    "using Plots; pgfplotsx()\n",
    "using LaTeXStrings\n",
    "using Base.Threads\n",
    "using StatsBase\n",
    "using LinearAlgebra\n",
    "using Trapz\n",
    "using Roots"
   ]
  },
  {
   "cell_type": "markdown",
   "id": "71e41c61",
   "metadata": {},
   "source": [
    "# Effective force and resetting rate"
   ]
  },
  {
   "cell_type": "code",
   "execution_count": 2,
   "id": "3fa48af8",
   "metadata": {},
   "outputs": [
    {
     "data": {
      "text/plain": [
       "W (generic function with 1 method)"
      ]
     },
     "execution_count": 2,
     "metadata": {},
     "output_type": "execute_result"
    }
   ],
   "source": [
    "# Effective force\n",
    "function V(y,z)\n",
    "    return y*exp(-y^2)*exp(-z) / (√z * (exp(-z-y^2) + √(π*z) * erf(√z)) )\n",
    "end\n",
    "\n",
    "# Effective resetting rate\n",
    "function W(y,z)\n",
    "    return (exp(-z) + √(π*z)*erf(√z)) / (exp(-z-y^2) + √(π*z)*erf(√z))\n",
    "end"
   ]
  },
  {
   "cell_type": "markdown",
   "id": "121b3ed7",
   "metadata": {},
   "source": [
    "# Resetting Brownian bridge trajectories"
   ]
  },
  {
   "cell_type": "code",
   "execution_count": 3,
   "id": "ad839ef3",
   "metadata": {},
   "outputs": [
    {
     "data": {
      "text/plain": [
       "run (generic function with 1 method)"
      ]
     },
     "execution_count": 3,
     "metadata": {},
     "output_type": "execute_result"
    }
   ],
   "source": [
    "# Generate resetting Brownian bridge (RBB) trajectories by integrating the effective Langevin equation.\n",
    "\n",
    "function run(r,dt,tf)\n",
    "    D = 1 # Diffusion coefficent\n",
    "    dx = √(2*dt)\n",
    "    t = 0:dt:tf\n",
    "    x = zeros(length(t))\n",
    "    for i=2:length(t)\n",
    "        y = x[i-1]/√(4*(tf-t[i]))\n",
    "        z = r*(tf-t[i])\n",
    "        if rand() < r*W(y,z)*dt\n",
    "            x[i] = 0\n",
    "        else\n",
    "            x[i] = x[i-1] + dx*randn() - √(4*r)*V(y,z)*dt\n",
    "        end\n",
    "    end\n",
    "    return t, x\n",
    "end"
   ]
  },
  {
   "cell_type": "code",
   "execution_count": 4,
   "id": "89f0428c",
   "metadata": {},
   "outputs": [
    {
     "data": {
      "text/plain": [
       "(0.0:0.0010000000000000002:0.9990000000000002, [0.0, -0.014685693929231953, 0.029666429831207833, 0.07015365604654572, 0.026170542351660095, -0.003055083935813405, 0.0006650185633222555, -0.011876022039460967, -0.06421020114049848, -0.1583491086052331  …  -0.09741718307356349, -0.12794608179952377, -0.056906108106663925, -0.15122246194507996, -0.19108655570116967, -0.1392111442991526, -0.12517528121642307, -0.08381145449077904, -0.005090461122941731, -0.06480839661797634])"
      ]
     },
     "execution_count": 4,
     "metadata": {},
     "output_type": "execute_result"
    }
   ],
   "source": [
    "# Generate one trajectory\n",
    "\n",
    "r = 10 # resetting rate\n",
    "dt = 10^(-3) # time increment\n",
    "tf = 1 # final time\n",
    "t,x=run(r,dt,tf);"
   ]
  },
  {
   "cell_type": "code",
   "execution_count": null,
   "id": "6c4e941f",
   "metadata": {},
   "outputs": [],
   "source": [
    "# Show trajectory\n",
    "\n",
    "plot()\n",
    "for i=1:(length(x)-1)\n",
    "    if x[i+1]==0\n",
    "        plot!([t[i],t[i+1]],[x[i],x[i+1]],arrow=true,color=:red,linestyle=:dash,linewidth=3,label=\"\")\n",
    "    else\n",
    "        plot!([t[i],t[i+1]],[x[i],x[i+1]],color=:blue,linewidth=2,label=\"\")\n",
    "    end\n",
    "end\n",
    "xlabel!(L\"t\")\n",
    "ylabel!(L\"x_B(t)\")\n",
    "plot!(grid=false,size=(500,350),tickfontsize=20,guidefontsize=20,legendfontsize=20)\n",
    "current()"
   ]
  },
  {
   "cell_type": "code",
   "execution_count": null,
   "id": "61927a93",
   "metadata": {},
   "outputs": [],
   "source": []
  }
 ],
 "metadata": {
  "kernelspec": {
   "display_name": "Julia 1.6.0",
   "language": "julia",
   "name": "julia-1.6"
  },
  "language_info": {
   "file_extension": ".jl",
   "mimetype": "application/julia",
   "name": "julia",
   "version": "1.6.5"
  }
 },
 "nbformat": 4,
 "nbformat_minor": 5
}
